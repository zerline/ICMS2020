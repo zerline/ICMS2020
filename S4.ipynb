{
 "cells": [
  {
   "cell_type": "markdown",
   "metadata": {},
   "source": [
    "# Symmetric Group subgroups Hasse Diagram"
   ]
  },
  {
   "cell_type": "code",
   "execution_count": null,
   "metadata": {},
   "outputs": [],
   "source": [
    "S4 = SymmetricGroup(4)\n",
    "N = S4.subgroups()\n",
    "# leur demander s'ils sont sous-groupes les uns des autres\n",
    "# http://sheaves.github.io/Subgroup-Lattice/\n",
    "# Define f(h,k) = True iff h is a subgroup of k\n",
    "f = lambda h,k: h.is_subgroup(k)\n",
    "# Define and display the poset\n",
    "P = Poset((N, f))\n",
    "#P.plot(label_elements=False, vertex_shape= 'H', vertex_size = 800, vertex_colors = 'white')"
   ]
  },
  {
   "cell_type": "code",
   "execution_count": null,
   "metadata": {},
   "outputs": [],
   "source": [
    "D = P.hasse_diagram()"
   ]
  },
  {
   "cell_type": "code",
   "execution_count": null,
   "metadata": {},
   "outputs": [],
   "source": [
    "import networkx\n",
    "G7 = networkx.Graph()\n",
    "G7.add_edges_from([(e[0], e[1]) for e in D.edges()])\n",
    "len(G7.nodes)\n",
    "#G7.nodes"
   ]
  },
  {
   "cell_type": "markdown",
   "metadata": {},
   "source": [
    "For specific layout options, we write a function called _node__options_ , that should return an _options_ dictionary. In our case:\n",
    "- Normal subgroups will be highlighted with a diamond shaped node\n",
    "- Conjugacy classes will be grouped in the final layout"
   ]
  },
  {
   "cell_type": "code",
   "execution_count": null,
   "metadata": {},
   "outputs": [],
   "source": [
    "# Normal subgroups\n",
    "S4.normal_subgroups()"
   ]
  },
  {
   "cell_type": "code",
   "execution_count": null,
   "metadata": {},
   "outputs": [],
   "source": [
    "# Conjugality classes\n",
    "# S4 = SymmetricGroup(4)\n",
    "#S4.conjugacy_classes_subgroups()\n",
    "#C = S4._gap_().ConjugacyClassesSubgroups()\n",
    "#c = C[2]\n",
    "#c.List(), c.Representative(), S4.subgroup(gap_group=c.Representative())"
   ]
  },
  {
   "cell_type": "code",
   "execution_count": null,
   "metadata": {},
   "outputs": [],
   "source": [
    "# Conjugality classes\n",
    "# S4 = SymmetricGroup(4)\n",
    "conjugates = {}\n",
    "conjugacy_class = {}\n",
    "for count,c in enumerate(S4._gap_().ConjugacyClassesSubgroups()):\n",
    "    cl = int(count + 1)\n",
    "    conjugates[cl] = []\n",
    "    for s in c.List():\n",
    "        conjugates[cl].append(S4.subgroup(gap_group=s))\n",
    "        conjugacy_class[S4.subgroup(gap_group=s)] = cl\n",
    "#print(conjugacy_class)"
   ]
  },
  {
   "cell_type": "code",
   "execution_count": null,
   "metadata": {},
   "outputs": [],
   "source": [
    "def node_options(n):\n",
    "    options = {}\n",
    "    options['layer'] = - conjugacy_class[n]\n",
    "    if n.is_normal():\n",
    "        options['type'] = 'diamond'       \n",
    "    else:\n",
    "        options['type'] = 'circle'        \n",
    "    if n.cardinality() == 24:\n",
    "        options['title'] = 'G'\n",
    "        options['conjugate'] = 0\n",
    "    else:\n",
    "        options['title'] = str(conjugacy_class[n])\n",
    "        options['conjugate'] = conjugacy_class[n]\n",
    "    return options"
   ]
  },
  {
   "cell_type": "code",
   "execution_count": null,
   "metadata": {},
   "outputs": [],
   "source": [
    "from francy_widget import FrancyWidget, FrancyMessage\n",
    "w7 = FrancyWidget(G7, \n",
    "                  title=\"S4\", counter=45, height=600, weight=0,\n",
    "                  messages=[\"There are 8 levels in this Group.\"],\n",
    "                  node_options=node_options)\n",
    "#w7.adapter.to_dict(G7,\n",
    " #                 title=\"S4\", height=600, \n",
    " #                 messages=[\"There are 8 levels in this Group.\"],\n",
    " #                 node_options=node_options)\n",
    "w7"
   ]
  },
  {
   "cell_type": "markdown",
   "metadata": {},
   "source": [
    "_Uncomment below if you want to check the JSON output:_ "
   ]
  },
  {
   "cell_type": "code",
   "execution_count": null,
   "metadata": {},
   "outputs": [],
   "source": [
    "#import json\n",
    "#myjson = json.loads(w7.json_data)\n",
    "#dump = json.dumps(myjson, indent=4, sort_keys=False)\n",
    "#open(\"test/myjson7.json\", 'w').write(dump)"
   ]
  }
 ],
 "metadata": {
  "kernelspec": {
   "display_name": "SageMath 8.6",
   "language": "",
   "name": "sagemath"
  },
  "language_info": {
   "codemirror_mode": {
    "name": "ipython",
    "version": 3
   },
   "file_extension": ".py",
   "mimetype": "text/x-python",
   "name": "python",
   "nbconvert_exporter": "python",
   "pygments_lexer": "ipython3",
   "version": "3.6.6"
  }
 },
 "nbformat": 4,
 "nbformat_minor": 2
}
