{
 "cells": [
  {
   "cell_type": "markdown",
   "metadata": {},
   "source": [
    "# Emmy Noether's descent\n",
    "\n",
    "Amalie Emmy Noether (23 March 1882 – 14 April 1935) was a German mathematician who made important contributions to abstract algebra and theoretical physics (https://en.wikipedia.org/wiki/Emmy_Noether).\n",
    "\n",
    "According to the math genealogy project, Emmy Noether had 14 doctoral students, who had 76 themselves, ... so until now she has *1365* descendants."
   ]
  },
  {
   "cell_type": "code",
   "execution_count": null,
   "metadata": {},
   "outputs": [],
   "source": [
    "import networkx, json\n",
    "from francy_widget import FrancyWidget\n",
    "G = networkx.DiGraph()\n",
    "data = json.load(open(\"noether.json\"))\n",
    "nodes = data[\"nodes\"]\n",
    "#print(len(nodes))\n",
    "nodes_to_keep = {k:nodes[k] for k in nodes if nodes[k][0]<4}\n",
    "edges_to_keep = [e for e in data[\"edges\"] if e[1] in nodes_to_keep]\n",
    "G.add_edges_from(edges_to_keep)\n",
    "def node_options(n):\n",
    "    options = {}\n",
    "    d = nodes[n]\n",
    "    options[\"layer\"] = d[0]\n",
    "    options[\"title\"] = \"%s (%s)\" % (d[2].split(\",\")[0], d[3])\n",
    "    if n in [\"6967\", \"63779\", \"6982\", \"29850\", \"121808\", \"191816\",\n",
    "             \"54355\", \"98035\", \"44616\", \"57077\", \"21851\"]:\n",
    "        options[\"type\"] = 'diamond'\n",
    "    else:\n",
    "        options[\"type\"] = 'circle'\n",
    "    return options\n",
    "FrancyWidget(G, graphType=\"directed\", height=800, zoomToFit=False,\n",
    "             node_options=node_options)"
   ]
  }
 ],
 "metadata": {
  "kernelspec": {
   "display_name": "Python 3",
   "language": "python",
   "name": "python3"
  },
  "language_info": {
   "codemirror_mode": {
    "name": "ipython",
    "version": 3
   },
   "file_extension": ".py",
   "mimetype": "text/x-python",
   "name": "python",
   "nbconvert_exporter": "python",
   "pygments_lexer": "ipython3",
   "version": "3.6.6"
  }
 },
 "nbformat": 4,
 "nbformat_minor": 2
}
