{
 "cells": [
  {
   "cell_type": "code",
   "execution_count": null,
   "metadata": {
    "slideshow": {
     "slide_type": "skip"
    }
   },
   "outputs": [],
   "source": [
    "import warnings\n",
    "warnings.filterwarnings('ignore')"
   ]
  },
  {
   "cell_type": "code",
   "execution_count": null,
   "metadata": {
    "slideshow": {
     "slide_type": "skip"
    }
   },
   "outputs": [],
   "source": [
    "from ipywidgets import HTML\n",
    "HTML(\"<style>.image { background-color:white }</style>\")"
   ]
  },
  {
   "cell_type": "markdown",
   "metadata": {
    "slideshow": {
     "slide_type": "slide"
    }
   },
   "source": [
    "# Interactively visualizing mathematical objects with *ipywidgets* and building applications\n",
    "<table><tr class=\"image\"><td class=\"image\"><img src=\"icms-logo.png\" width=\"168\" height=\"52\"/></td><td class=\"image\">13-16 July 2020</td></tr></table>\n",
    "\n",
    "\n",
    "### Odile Bénassy,  OpenDreamKit project, LRI & Université Paris Sud\n",
    "<table><tr class=\"image\"><td class=\"image\"><img src=\"odk_logo.png\"/></td><td class=\"image\"><img width=\"64\" height=\"63\" src=\"logo-lri.png\" /></td><td class=\"image\"><img width=\"85\" height=\"43\"  src=\"logo-psud.png\"/></td></tr></table>\n",
    "\n"
   ]
  },
  {
   "cell_type": "markdown",
   "metadata": {
    "slideshow": {
     "slide_type": "subslide"
    }
   },
   "source": [
    "We will see:\n",
    "* **visual** representations: plots, ..\n",
    "* interactivity: interactive **widgets**\n",
    "* how to build **small applications** with only a few lines of code"
   ]
  },
  {
   "cell_type": "markdown",
   "metadata": {
    "slideshow": {
     "slide_type": "notes"
    }
   },
   "source": [
    "# Abstract (en)\n",
    "\n",
    "**Illustrate the rich interaction features offered by Jupyter**\n",
    "\n",
    "Beyond the usual *REPL/Read-Eval-Print* loop, which interactivity modes does Jupyter offer? We will show examples of so-called *widgets*, ie interactive visual components, from simple web form controls to complex applications.\n",
    "\n",
    "We will explain how to build simple yet efficient interactive applications with only a handful lines of code.\n",
    "\n",
    "To illustrate the power of Jupyter widgets, we will demonstrate a few applications we use to introspect combinatorial objects and run calculations on them.\n",
    "\n",
    "We will explain how to integrate such widgets as building blocks to larger but still modular interactive applications.\n",
    "\n",
    "Finally, browsing our own development process, we will try to distinguish between rather easy tasks with short learning curve, and those requiring more development time and/or expertise. We will stress the role played by dedicated Research Software Engineers and reveal incentives for building and animating a rich user community.\n",
    "\n",
    "---\n"
   ]
  },
  {
   "cell_type": "markdown",
   "metadata": {
    "slideshow": {
     "slide_type": "slide"
    }
   },
   "source": [
    "# Plots and interactivity"
   ]
  },
  {
   "cell_type": "markdown",
   "metadata": {
    "slideshow": {
     "slide_type": "subslide"
    }
   },
   "source": [
    "Suppose we want to study how Taylor series can approximate the $sinus$ function.\n",
    "\n",
    "$$sin: x \\mapsto sin(x)$$"
   ]
  },
  {
   "cell_type": "code",
   "execution_count": null,
   "metadata": {
    "slideshow": {
     "slide_type": "fragment"
    }
   },
   "outputs": [],
   "source": [
    "s = taylor(sin(x), x, 0, 5)"
   ]
  },
  {
   "cell_type": "code",
   "execution_count": null,
   "metadata": {
    "slideshow": {
     "slide_type": "fragment"
    }
   },
   "outputs": [],
   "source": [
    "plot([x, s,sin], xmin=-5, xmax=5, ymin=-2, ymax=2, color=[\"gray\", \"blue\",\"red\"])"
   ]
  },
  {
   "cell_type": "code",
   "execution_count": null,
   "metadata": {
    "slideshow": {
     "slide_type": "subslide"
    }
   },
   "outputs": [],
   "source": [
    "@interact(degree=(1,25,2), continuous_update=False)\n",
    "def f(degree=1):\n",
    "    s = taylor(sin(x), x, 0, degree)\n",
    "    display(plot([x, s,sin], xmin=-5, xmax=5, ymin=-2, ymax=2, color=[\"gray\", \"blue\",\"red\"]))\n",
    "    "
   ]
  },
  {
   "cell_type": "markdown",
   "metadata": {
    "slideshow": {
     "slide_type": "subslide"
    }
   },
   "source": [
    "* publish: _binder_, _cocalc_ services\n",
    "\n",
    "* export: _voila_ library \n",
    "\n",
    "<table><tr class=\"image\"><td class=\"image\"><img width=\"60\" height=\"60\" src=\"binder.png\"/></td><td class=\"image\"><img width=\"50\" height=\"50\" src=\"cocalc.png\"/></td><td class=\"image\"><img width=\"70\" height=\"29\"  src=\"voila.png\"/></td></tr></table>"
   ]
  },
  {
   "cell_type": "markdown",
   "metadata": {
    "slideshow": {
     "slide_type": "slide"
    }
   },
   "source": [
    "@interact makes up a standalone component\n",
    "\n",
    "Let's see an example application"
   ]
  },
  {
   "cell_type": "code",
   "execution_count": null,
   "metadata": {
    "slideshow": {
     "slide_type": "subslide"
    }
   },
   "outputs": [],
   "source": [
    "import random\n",
    "import copy\n",
    "from bqplot import Bars, LinearScale, Figure\n",
    "from ipywidgets import IntSlider, Button, HTML, VBox"
   ]
  },
  {
   "cell_type": "code",
   "execution_count": null,
   "metadata": {
    "slideshow": {
     "slide_type": "fragment"
    }
   },
   "outputs": [],
   "source": [
    "def mixup(l, duration):\n",
    "    for t in range(duration):\n",
    "        i = random.randint(0, len(l)-1)\n",
    "        j = random.randint(0, len(l)-1)\n",
    "        l[i], l[j] = l[j], l[i]"
   ]
  },
  {
   "cell_type": "code",
   "execution_count": null,
   "metadata": {
    "slideshow": {
     "slide_type": "fragment"
    }
   },
   "outputs": [],
   "source": [
    "l = list(range(10)); l"
   ]
  },
  {
   "cell_type": "code",
   "execution_count": null,
   "metadata": {
    "slideshow": {
     "slide_type": "fragment"
    }
   },
   "outputs": [],
   "source": [
    "mixup(l, 10); l"
   ]
  },
  {
   "cell_type": "markdown",
   "metadata": {
    "slideshow": {
     "slide_type": "subslide"
    }
   },
   "source": [
    "### Want to understand the algorithm better? Let's trace it visually."
   ]
  },
  {
   "cell_type": "code",
   "execution_count": null,
   "metadata": {
    "slideshow": {
     "slide_type": "fragment"
    }
   },
   "outputs": [],
   "source": [
    "def mixup(l, duration):\n",
    "    history = [copy.copy(l)]\n",
    "    for t in range(duration):\n",
    "        i = random.randint(0, len(l)-1)\n",
    "        j = random.randint(0, len(l)-1)\n",
    "        l[i], l[j] = l[j], l[i]\n",
    "        history.append(copy.copy(l))\n",
    "    return history"
   ]
  },
  {
   "cell_type": "code",
   "execution_count": null,
   "metadata": {
    "slideshow": {
     "slide_type": "fragment"
    }
   },
   "outputs": [],
   "source": [
    "l = list(range(10))\n",
    "history = mixup(l, 100)"
   ]
  },
  {
   "cell_type": "code",
   "execution_count": null,
   "metadata": {
    "slideshow": {
     "slide_type": "subslide"
    }
   },
   "outputs": [],
   "source": [
    "l = history[0]\n",
    "bars = Bars(x=range(len(l)), y = l, scales={'x': LinearScale(), 'y': LinearScale()})\n",
    "w = Figure(marks=[bars])\n",
    "slider = IntSlider(0, 0, 99) # equiv. IntSlider(min=0, max=99)\n",
    "def update(change):\n",
    "    w.marks[0].y = history[change[\"new\"]]\n",
    "slider.observe(update, names='value')\n",
    "VBox((slider, w))"
   ]
  },
  {
   "cell_type": "code",
   "execution_count": null,
   "metadata": {
    "slideshow": {
     "slide_type": "subslide"
    }
   },
   "outputs": [],
   "source": [
    "current_index = 0\n",
    "bars = Bars(x=range(len(l)), y = history[current_index], scales={'x': LinearScale(), 'y': LinearScale()})\n",
    "w = Figure(marks=[bars])\n",
    "button =  Button(description=\"Go!\")\n",
    "label = HTML()\n",
    "def step():\n",
    "    global current_index\n",
    "    current_index += 1\n",
    "    w.marks[0].y = history[current_index]\n",
    "    label.value = '<p style=\"font-size:24px; color:tomato\">Step #%d</p>' % current_index \n",
    "def button_clicked(b):\n",
    "    step()\n",
    "button.on_click(button_clicked)\n",
    "VBox((button, w, label))"
   ]
  },
  {
   "cell_type": "code",
   "execution_count": null,
   "metadata": {
    "slideshow": {
     "slide_type": "subslide"
    }
   },
   "outputs": [],
   "source": [
    "from ipywidgets import HTML\n",
    "from traitlets import Int, observe\n",
    "class Indicator(HTML):\n",
    "    step= Int()\n",
    "    @observe('step')\n",
    "    def step_changed(self, change):\n",
    "        self.value = '<p style=\"font-size:24px; color:tomato\">Step #%d</p>' % self.step "
   ]
  },
  {
   "cell_type": "code",
   "execution_count": null,
   "metadata": {
    "slideshow": {
     "slide_type": "fragment"
    }
   },
   "outputs": [],
   "source": [
    "current_index = 0\n",
    "bars = Bars(x=range(len(l)), y = history[current_index], scales={'x': LinearScale(), 'y': LinearScale()})\n",
    "w = Figure(marks=[bars])\n",
    "button =  Button(description=\"Go!\")\n",
    "label = Indicator()\n",
    "def step():\n",
    "    global current_index\n",
    "    current_index += 1\n",
    "    w.marks[0].y = history[current_index]\n",
    "    label.step = int(current_index)\n",
    "def button_clicked(b):\n",
    "    step()\n",
    "button.on_click(button_clicked)\n",
    "VBox((button, w, label))"
   ]
  },
  {
   "cell_type": "markdown",
   "metadata": {
    "slideshow": {
     "slide_type": "slide"
    }
   },
   "source": [
    "## Composing widgets "
   ]
  },
  {
   "cell_type": "code",
   "execution_count": null,
   "metadata": {
    "slideshow": {
     "slide_type": "subslide"
    }
   },
   "outputs": [],
   "source": [
    "from ipywidgets import *\n",
    "b = Button(description=\"Big button\", layout=Layout(height=\"60px\", width=\"100px\"))\n",
    "t = Textarea(layout=Layout(height=\"160px\"))\n",
    "s = Select(options=(\"1\", \"2\", \"3\"))\n",
    "d = Dropdown(options=(\"1\", \"2\", \"3\"))\n",
    "b.style.button_color=\"orange\" # Some styling for our button\n",
    "b.style.font_weight = \"bold\"\n",
    "t.value=\"a rather high text area\"\n",
    "s.value=\"3\"\n",
    "HBox((b,t,s)) # Horizontal box\n"
   ]
  },
  {
   "cell_type": "markdown",
   "metadata": {
    "slideshow": {
     "slide_type": "subslide"
    }
   },
   "source": [
    "GridBox, Accordion, Tabs .. \n",
    "\n",
    "List of available widgets\n",
    "\n",
    "* https://ipywidgets.readthedocs.io/en/stable/examples/Widget%20List.html\n",
    "\n",
    "* 'ipywidgets list'"
   ]
  },
  {
   "cell_type": "code",
   "execution_count": null,
   "metadata": {
    "slideshow": {
     "slide_type": "subslide"
    }
   },
   "outputs": [],
   "source": [
    "GridBox((b,b,b,d,d,d,t,t,t), layout=Layout(grid_template_columns=\"repeat(3, 300px)\"))"
   ]
  },
  {
   "cell_type": "markdown",
   "metadata": {
    "slideshow": {
     "slide_type": "slide"
    }
   },
   "source": [
    "# Custom widgets and applications\n",
    "**A few  examples**"
   ]
  },
  {
   "cell_type": "markdown",
   "metadata": {
    "slideshow": {
     "slide_type": "subslide"
    }
   },
   "source": [
    "## Sage Combinat Widgets"
   ]
  },
  {
   "cell_type": "code",
   "execution_count": null,
   "metadata": {
    "slideshow": {
     "slide_type": "fragment"
    }
   },
   "outputs": [],
   "source": [
    "from sage_combinat_widgets import GridViewWidget\n",
    "t = StandardTableaux(15).random_element()\n",
    "GridViewWidget(t)"
   ]
  },
  {
   "cell_type": "markdown",
   "metadata": {
    "slideshow": {
     "slide_type": "slide"
    }
   },
   "source": [
    "## Sage Explorer"
   ]
  },
  {
   "cell_type": "code",
   "execution_count": null,
   "metadata": {
    "slideshow": {
     "slide_type": "skip"
    }
   },
   "outputs": [],
   "source": [
    "from sage_explorer import explore\n",
    "explore(sin)"
   ]
  },
  {
   "cell_type": "code",
   "execution_count": null,
   "metadata": {
    "slideshow": {
     "slide_type": "subslide"
    }
   },
   "outputs": [],
   "source": [
    "explore(EllipticCurve([0, -1, 1, -10, -20]))"
   ]
  },
  {
   "cell_type": "code",
   "execution_count": null,
   "metadata": {
    "slideshow": {
     "slide_type": "subslide"
    }
   },
   "outputs": [],
   "source": [
    "sk = SkewPartition([[7, 4, 2, 1],[2, 1, 1]])\n",
    "explore(sk)"
   ]
  },
  {
   "cell_type": "markdown",
   "metadata": {
    "slideshow": {
     "slide_type": "subslide"
    }
   },
   "source": [
    "## Francy"
   ]
  },
  {
   "cell_type": "code",
   "execution_count": null,
   "metadata": {
    "slideshow": {
     "slide_type": "fragment"
    }
   },
   "outputs": [],
   "source": [
    "# Francy Widget is an ipywidgets integration of Francy by Manuel Martins\n",
    "from francy_widget import FrancyWidget\n",
    "import networkx\n",
    "G1 = networkx.Graph([(1,2),(2,3),(3,4)])\n",
    "FrancyWidget(G1, counter=0, title=\"Undirected Graph Example\")"
   ]
  },
  {
   "cell_type": "markdown",
   "metadata": {
    "slideshow": {
     "slide_type": "fragment"
    }
   },
   "source": [
    "https://github.com/zerline/francy-widget"
   ]
  },
  {
   "cell_type": "markdown",
   "metadata": {
    "slideshow": {
     "slide_type": "slide"
    }
   },
   "source": [
    "Modules used for this presentation:\n",
    "    * ipywidgets\n",
    "    * bqplot\n",
    "    * random\n",
    "    * copy\n",
    "    * traitlets\n",
    "    * sage_combinat_widgets\n",
    "    * sage_explorer\n",
    "    * francy_widget\n",
    "    * RISE"
   ]
  },
  {
   "cell_type": "markdown",
   "metadata": {
    "slideshow": {
     "slide_type": "slide"
    }
   },
   "source": [
    "## Questions?\n",
    "\n",
    "    odile.benassy@u-psud.fr\n",
    "    \n",
    "`zerline` on Github"
   ]
  }
 ],
 "metadata": {
  "celltoolbar": "Slideshow",
  "kernelspec": {
   "display_name": "SageMath 9.1.rc5",
   "language": "sage",
   "name": "sagemath"
  },
  "language_info": {
   "codemirror_mode": {
    "name": "ipython",
    "version": 3
   },
   "file_extension": ".py",
   "mimetype": "text/x-python",
   "name": "python",
   "nbconvert_exporter": "python",
   "pygments_lexer": "ipython3",
   "version": "3.7.3"
  }
 },
 "nbformat": 4,
 "nbformat_minor": 2
}
